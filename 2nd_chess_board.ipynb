{
 "cells": [
  {
   "cell_type": "code",
   "execution_count": 46,
   "metadata": {},
   "outputs": [],
   "source": [
    "import matplotlib\n",
    "import matplotlib.pyplot as plt\n",
    "import numpy as np"
   ]
  },
  {
   "cell_type": "code",
   "execution_count": 47,
   "metadata": {},
   "outputs": [],
   "source": [
    "class ChessBoard:\n",
    "    def __init__(self):\n",
    "        self.grid = np.zeros((8,8,3))\n",
    "        white = (1,1,1)\n",
    "        rows = range(8)\n",
    "        for row in rows:\n",
    "            if row % 2 == 0: \n",
    "                for i in range(0,8,2):\n",
    "                    self.grid[row,i] = white\n",
    "            else:\n",
    "                for i in range(1,8,2):\n",
    "                    self.grid[row,i] = white\n",
    "\n",
    "    def add_red(self, row, column):\n",
    "        red = (1,2,0)\n",
    "        self.red_row = row\n",
    "        self.red_colum = column\n",
    "        self.grid[row, column] = red\n",
    "\n",
    "    def add_blue(self, row, column):\n",
    "        blue = (0,1,1)\n",
    "        self.blue_row = row\n",
    "        self.blue_colum = column\n",
    "        self.grid[row, column] = blue\n",
    "\n",
    "    def render(self):\n",
    "        plt.imshow(self.grid)\n",
    "\n",
    "    def is_under_attack(self):\n",
    "        if  self.red_row == self.blue_row:\n",
    "            return True\n",
    "        elif self.red_colum == self.blue_colum: \n",
    "            return True\n",
    "        elif abs(self.red_row - self.blue_row) == abs(self.red_colum - self.blue_colum):\n",
    "            return True\n",
    "        else: \n",
    "            return False"
   ]
  },
  {
   "cell_type": "code",
   "execution_count": 48,
   "metadata": {},
   "outputs": [],
   "source": [
    "Chess_Board = ChessBoard()\n",
    "Chess_Board.add_red(3,4)\n",
    "Chess_Board.add_blue(5,4)"
   ]
  },
  {
   "cell_type": "code",
   "execution_count": 49,
   "metadata": {},
   "outputs": [
    {
     "name": "stderr",
     "output_type": "stream",
     "text": [
      "Clipping input data to the valid range for imshow with RGB data ([0..1] for floats or [0..255] for integers).\n"
     ]
    },
    {
     "data": {
      "image/png": "[encoded data removed]",
      "text/plain": [
       "<Figure size 432x288 with 1 Axes>"
      ]
     },
     "metadata": {
      "needs_background": "light"
     },
     "output_type": "display_data"
    }
   ],
   "source": [
    "Chess_Board.render()"
   ]
  }
 ],
 "metadata": {
  "interpreter": {
   "hash": "7d6993cb2f9ce9a59d5d7380609d9cb5192a9dedd2735a011418ad9e827eb538"
  },
  "kernelspec": {
   "display_name": "Python 3.9.6 64-bit",
   "name": "python3"
  },
  "language_info": {
   "codemirror_mode": {
    "name": "ipython",
    "version": 3
   },
   "file_extension": ".py",
   "mimetype": "text/x-python",
   "name": "python",
   "nbconvert_exporter": "python",
   "pygments_lexer": "ipython3",
   "version": "3.9.6"
  },
  "orig_nbformat": 4
 },
 "nbformat": 4,
 "nbformat_minor": 2
}
